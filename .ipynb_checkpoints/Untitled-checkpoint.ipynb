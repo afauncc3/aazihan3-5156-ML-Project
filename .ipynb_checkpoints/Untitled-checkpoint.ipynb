{
 "cells": [
  {
   "cell_type": "code",
   "execution_count": 1,
   "id": "074ff43a",
   "metadata": {},
   "outputs": [],
   "source": [
    "import numpy as np \n",
    "import pandas as pd \n",
    "import matplotlib.pyplot as plt\n",
    "import seaborn as sns\n",
    "import os"
   ]
  },
  {
   "cell_type": "code",
   "execution_count": 3,
   "id": "eda1f00d",
   "metadata": {},
   "outputs": [],
   "source": [
    "ratings = pd.read_csv('ratings.dat', names=['userId', 'movieId', 'rating', 'time'], delimiter='::', engine='python')\n",
    "users = pd.read_csv('users.dat', names=['userId','gender','age','occupation','zip'], delimiter='::', engine='python')\n",
    "movies = pd.read_csv('movies.dat', names=['movieId', 'Movie_names', 'Genres'], delimiter='::', engine='python')"
   ]
  },
  {
   "cell_type": "code",
   "execution_count": 4,
   "id": "1b5942f7",
   "metadata": {},
   "outputs": [
    {
     "name": "stdout",
     "output_type": "stream",
     "text": [
      "Ratings shape: (1000209, 4)\n",
      "Users shape: (6040, 5)\n",
      "Movies shape: (3883, 3)\n"
     ]
    }
   ],
   "source": [
    "print('Ratings shape:', ratings.shape)\n",
    "print('Users shape:', users.shape)\n",
    "print('Movies shape:', movies.shape)"
   ]
  },
  {
   "cell_type": "code",
   "execution_count": 7,
   "id": "abf5f67e",
   "metadata": {},
   "outputs": [
    {
     "data": {
      "text/html": [
       "<div>\n",
       "<style scoped>\n",
       "    .dataframe tbody tr th:only-of-type {\n",
       "        vertical-align: middle;\n",
       "    }\n",
       "\n",
       "    .dataframe tbody tr th {\n",
       "        vertical-align: top;\n",
       "    }\n",
       "\n",
       "    .dataframe thead th {\n",
       "        text-align: right;\n",
       "    }\n",
       "</style>\n",
       "<table border=\"1\" class=\"dataframe\">\n",
       "  <thead>\n",
       "    <tr style=\"text-align: right;\">\n",
       "      <th></th>\n",
       "      <th>userId</th>\n",
       "      <th>movieId</th>\n",
       "      <th>rating</th>\n",
       "      <th>time</th>\n",
       "    </tr>\n",
       "  </thead>\n",
       "  <tbody>\n",
       "    <tr>\n",
       "      <th>0</th>\n",
       "      <td>1</td>\n",
       "      <td>1193</td>\n",
       "      <td>5</td>\n",
       "      <td>978300760</td>\n",
       "    </tr>\n",
       "    <tr>\n",
       "      <th>1</th>\n",
       "      <td>1</td>\n",
       "      <td>661</td>\n",
       "      <td>3</td>\n",
       "      <td>978302109</td>\n",
       "    </tr>\n",
       "    <tr>\n",
       "      <th>2</th>\n",
       "      <td>1</td>\n",
       "      <td>914</td>\n",
       "      <td>3</td>\n",
       "      <td>978301968</td>\n",
       "    </tr>\n",
       "    <tr>\n",
       "      <th>3</th>\n",
       "      <td>1</td>\n",
       "      <td>3408</td>\n",
       "      <td>4</td>\n",
       "      <td>978300275</td>\n",
       "    </tr>\n",
       "    <tr>\n",
       "      <th>4</th>\n",
       "      <td>1</td>\n",
       "      <td>2355</td>\n",
       "      <td>5</td>\n",
       "      <td>978824291</td>\n",
       "    </tr>\n",
       "  </tbody>\n",
       "</table>\n",
       "</div>"
      ],
      "text/plain": [
       "   userId  movieId  rating       time\n",
       "0       1     1193       5  978300760\n",
       "1       1      661       3  978302109\n",
       "2       1      914       3  978301968\n",
       "3       1     3408       4  978300275\n",
       "4       1     2355       5  978824291"
      ]
     },
     "execution_count": 7,
     "metadata": {},
     "output_type": "execute_result"
    }
   ],
   "source": [
    "ratings.head(5)"
   ]
  },
  {
   "cell_type": "code",
   "execution_count": 8,
   "id": "146454ce",
   "metadata": {},
   "outputs": [
    {
     "data": {
      "text/html": [
       "<div>\n",
       "<style scoped>\n",
       "    .dataframe tbody tr th:only-of-type {\n",
       "        vertical-align: middle;\n",
       "    }\n",
       "\n",
       "    .dataframe tbody tr th {\n",
       "        vertical-align: top;\n",
       "    }\n",
       "\n",
       "    .dataframe thead th {\n",
       "        text-align: right;\n",
       "    }\n",
       "</style>\n",
       "<table border=\"1\" class=\"dataframe\">\n",
       "  <thead>\n",
       "    <tr style=\"text-align: right;\">\n",
       "      <th></th>\n",
       "      <th>userId</th>\n",
       "      <th>gender</th>\n",
       "      <th>age</th>\n",
       "      <th>occupation</th>\n",
       "      <th>zip</th>\n",
       "    </tr>\n",
       "  </thead>\n",
       "  <tbody>\n",
       "    <tr>\n",
       "      <th>0</th>\n",
       "      <td>1</td>\n",
       "      <td>F</td>\n",
       "      <td>1</td>\n",
       "      <td>10</td>\n",
       "      <td>48067</td>\n",
       "    </tr>\n",
       "    <tr>\n",
       "      <th>1</th>\n",
       "      <td>2</td>\n",
       "      <td>M</td>\n",
       "      <td>56</td>\n",
       "      <td>16</td>\n",
       "      <td>70072</td>\n",
       "    </tr>\n",
       "    <tr>\n",
       "      <th>2</th>\n",
       "      <td>3</td>\n",
       "      <td>M</td>\n",
       "      <td>25</td>\n",
       "      <td>15</td>\n",
       "      <td>55117</td>\n",
       "    </tr>\n",
       "    <tr>\n",
       "      <th>3</th>\n",
       "      <td>4</td>\n",
       "      <td>M</td>\n",
       "      <td>45</td>\n",
       "      <td>7</td>\n",
       "      <td>02460</td>\n",
       "    </tr>\n",
       "    <tr>\n",
       "      <th>4</th>\n",
       "      <td>5</td>\n",
       "      <td>M</td>\n",
       "      <td>25</td>\n",
       "      <td>20</td>\n",
       "      <td>55455</td>\n",
       "    </tr>\n",
       "  </tbody>\n",
       "</table>\n",
       "</div>"
      ],
      "text/plain": [
       "   userId gender  age  occupation    zip\n",
       "0       1      F    1          10  48067\n",
       "1       2      M   56          16  70072\n",
       "2       3      M   25          15  55117\n",
       "3       4      M   45           7  02460\n",
       "4       5      M   25          20  55455"
      ]
     },
     "execution_count": 8,
     "metadata": {},
     "output_type": "execute_result"
    }
   ],
   "source": [
    "users.head(5)"
   ]
  },
  {
   "cell_type": "code",
   "execution_count": 9,
   "id": "9a9dcfa3",
   "metadata": {},
   "outputs": [
    {
     "data": {
      "text/html": [
       "<div>\n",
       "<style scoped>\n",
       "    .dataframe tbody tr th:only-of-type {\n",
       "        vertical-align: middle;\n",
       "    }\n",
       "\n",
       "    .dataframe tbody tr th {\n",
       "        vertical-align: top;\n",
       "    }\n",
       "\n",
       "    .dataframe thead th {\n",
       "        text-align: right;\n",
       "    }\n",
       "</style>\n",
       "<table border=\"1\" class=\"dataframe\">\n",
       "  <thead>\n",
       "    <tr style=\"text-align: right;\">\n",
       "      <th></th>\n",
       "      <th>movieId</th>\n",
       "      <th>Movie_names</th>\n",
       "      <th>Genres</th>\n",
       "    </tr>\n",
       "  </thead>\n",
       "  <tbody>\n",
       "    <tr>\n",
       "      <th>0</th>\n",
       "      <td>1</td>\n",
       "      <td>Toy Story (1995)</td>\n",
       "      <td>Animation|Children's|Comedy</td>\n",
       "    </tr>\n",
       "    <tr>\n",
       "      <th>1</th>\n",
       "      <td>2</td>\n",
       "      <td>Jumanji (1995)</td>\n",
       "      <td>Adventure|Children's|Fantasy</td>\n",
       "    </tr>\n",
       "    <tr>\n",
       "      <th>2</th>\n",
       "      <td>3</td>\n",
       "      <td>Grumpier Old Men (1995)</td>\n",
       "      <td>Comedy|Romance</td>\n",
       "    </tr>\n",
       "    <tr>\n",
       "      <th>3</th>\n",
       "      <td>4</td>\n",
       "      <td>Waiting to Exhale (1995)</td>\n",
       "      <td>Comedy|Drama</td>\n",
       "    </tr>\n",
       "    <tr>\n",
       "      <th>4</th>\n",
       "      <td>5</td>\n",
       "      <td>Father of the Bride Part II (1995)</td>\n",
       "      <td>Comedy</td>\n",
       "    </tr>\n",
       "  </tbody>\n",
       "</table>\n",
       "</div>"
      ],
      "text/plain": [
       "   movieId                         Movie_names                        Genres\n",
       "0        1                    Toy Story (1995)   Animation|Children's|Comedy\n",
       "1        2                      Jumanji (1995)  Adventure|Children's|Fantasy\n",
       "2        3             Grumpier Old Men (1995)                Comedy|Romance\n",
       "3        4            Waiting to Exhale (1995)                  Comedy|Drama\n",
       "4        5  Father of the Bride Part II (1995)                        Comedy"
      ]
     },
     "execution_count": 9,
     "metadata": {},
     "output_type": "execute_result"
    }
   ],
   "source": [
    "movies.head(5)"
   ]
  },
  {
   "cell_type": "code",
   "execution_count": 10,
   "id": "f6518586",
   "metadata": {},
   "outputs": [],
   "source": [
    "ratings.drop(['time'], axis=1, inplace=True)\n",
    "users.drop(['zip'], axis=1, inplace=True)"
   ]
  },
  {
   "cell_type": "code",
   "execution_count": 11,
   "id": "6d810236",
   "metadata": {},
   "outputs": [
    {
     "name": "stdout",
     "output_type": "stream",
     "text": [
      "Ratings shape: (1000209, 3)\n",
      "Users shape: (6040, 4)\n",
      "Movies shape: (3883, 3)\n"
     ]
    }
   ],
   "source": [
    "print('Ratings shape:', ratings.shape)\n",
    "print('Users shape:', users.shape)\n",
    "print('Movies shape:', movies.shape)"
   ]
  },
  {
   "cell_type": "code",
   "execution_count": 12,
   "id": "578a906f",
   "metadata": {},
   "outputs": [],
   "source": [
    "movies['release_year'] = movies['Movie_names'].str.extract(r'(?:\\((\\d{4})\\))?\\s*$', expand=False)"
   ]
  },
  {
   "cell_type": "code",
   "execution_count": 22,
   "id": "063b23a5",
   "metadata": {},
   "outputs": [
    {
     "data": {
      "text/html": [
       "<div>\n",
       "<style scoped>\n",
       "    .dataframe tbody tr th:only-of-type {\n",
       "        vertical-align: middle;\n",
       "    }\n",
       "\n",
       "    .dataframe tbody tr th {\n",
       "        vertical-align: top;\n",
       "    }\n",
       "\n",
       "    .dataframe thead th {\n",
       "        text-align: right;\n",
       "    }\n",
       "</style>\n",
       "<table border=\"1\" class=\"dataframe\">\n",
       "  <thead>\n",
       "    <tr style=\"text-align: right;\">\n",
       "      <th></th>\n",
       "      <th>movieId</th>\n",
       "      <th>Movie_names</th>\n",
       "      <th>Genres</th>\n",
       "      <th>release_year</th>\n",
       "    </tr>\n",
       "  </thead>\n",
       "  <tbody>\n",
       "    <tr>\n",
       "      <th>0</th>\n",
       "      <td>1</td>\n",
       "      <td>Toy Story (1995)</td>\n",
       "      <td>Animation|Children's|Comedy</td>\n",
       "      <td>1995</td>\n",
       "    </tr>\n",
       "    <tr>\n",
       "      <th>1</th>\n",
       "      <td>2</td>\n",
       "      <td>Jumanji (1995)</td>\n",
       "      <td>Adventure|Children's|Fantasy</td>\n",
       "      <td>1995</td>\n",
       "    </tr>\n",
       "    <tr>\n",
       "      <th>2</th>\n",
       "      <td>3</td>\n",
       "      <td>Grumpier Old Men (1995)</td>\n",
       "      <td>Comedy|Romance</td>\n",
       "      <td>1995</td>\n",
       "    </tr>\n",
       "    <tr>\n",
       "      <th>3</th>\n",
       "      <td>4</td>\n",
       "      <td>Waiting to Exhale (1995)</td>\n",
       "      <td>Comedy|Drama</td>\n",
       "      <td>1995</td>\n",
       "    </tr>\n",
       "    <tr>\n",
       "      <th>4</th>\n",
       "      <td>5</td>\n",
       "      <td>Father of the Bride Part II (1995)</td>\n",
       "      <td>Comedy</td>\n",
       "      <td>1995</td>\n",
       "    </tr>\n",
       "  </tbody>\n",
       "</table>\n",
       "</div>"
      ],
      "text/plain": [
       "   movieId                         Movie_names                        Genres  \\\n",
       "0        1                    Toy Story (1995)   Animation|Children's|Comedy   \n",
       "1        2                      Jumanji (1995)  Adventure|Children's|Fantasy   \n",
       "2        3             Grumpier Old Men (1995)                Comedy|Romance   \n",
       "3        4            Waiting to Exhale (1995)                  Comedy|Drama   \n",
       "4        5  Father of the Bride Part II (1995)                        Comedy   \n",
       "\n",
       "  release_year  \n",
       "0         1995  \n",
       "1         1995  \n",
       "2         1995  \n",
       "3         1995  \n",
       "4         1995  "
      ]
     },
     "execution_count": 22,
     "metadata": {},
     "output_type": "execute_result"
    }
   ],
   "source": [
    "movies.head(5)"
   ]
  },
  {
   "cell_type": "code",
   "execution_count": 14,
   "id": "1420a6fb",
   "metadata": {},
   "outputs": [],
   "source": [
    "movielens_df = ratings.merge(movies, on='movieId', how='left').merge(users, on='userId', how='left')"
   ]
  },
  {
   "cell_type": "code",
   "execution_count": 20,
   "id": "9f1c46af",
   "metadata": {},
   "outputs": [
    {
     "data": {
      "text/html": [
       "<div>\n",
       "<style scoped>\n",
       "    .dataframe tbody tr th:only-of-type {\n",
       "        vertical-align: middle;\n",
       "    }\n",
       "\n",
       "    .dataframe tbody tr th {\n",
       "        vertical-align: top;\n",
       "    }\n",
       "\n",
       "    .dataframe thead th {\n",
       "        text-align: right;\n",
       "    }\n",
       "</style>\n",
       "<table border=\"1\" class=\"dataframe\">\n",
       "  <thead>\n",
       "    <tr style=\"text-align: right;\">\n",
       "      <th></th>\n",
       "      <th>userId</th>\n",
       "      <th>movieId</th>\n",
       "      <th>rating</th>\n",
       "      <th>Movie_names</th>\n",
       "      <th>Genres</th>\n",
       "      <th>release_year</th>\n",
       "      <th>gender</th>\n",
       "      <th>age</th>\n",
       "      <th>occupation</th>\n",
       "    </tr>\n",
       "  </thead>\n",
       "  <tbody>\n",
       "    <tr>\n",
       "      <th>0</th>\n",
       "      <td>1</td>\n",
       "      <td>1193</td>\n",
       "      <td>5</td>\n",
       "      <td>One Flew Over the Cuckoo's Nest (1975)</td>\n",
       "      <td>Drama</td>\n",
       "      <td>1975</td>\n",
       "      <td>F</td>\n",
       "      <td>1</td>\n",
       "      <td>10</td>\n",
       "    </tr>\n",
       "    <tr>\n",
       "      <th>1</th>\n",
       "      <td>1</td>\n",
       "      <td>661</td>\n",
       "      <td>3</td>\n",
       "      <td>James and the Giant Peach (1996)</td>\n",
       "      <td>Animation|Children's|Musical</td>\n",
       "      <td>1996</td>\n",
       "      <td>F</td>\n",
       "      <td>1</td>\n",
       "      <td>10</td>\n",
       "    </tr>\n",
       "    <tr>\n",
       "      <th>2</th>\n",
       "      <td>1</td>\n",
       "      <td>914</td>\n",
       "      <td>3</td>\n",
       "      <td>My Fair Lady (1964)</td>\n",
       "      <td>Musical|Romance</td>\n",
       "      <td>1964</td>\n",
       "      <td>F</td>\n",
       "      <td>1</td>\n",
       "      <td>10</td>\n",
       "    </tr>\n",
       "    <tr>\n",
       "      <th>3</th>\n",
       "      <td>1</td>\n",
       "      <td>3408</td>\n",
       "      <td>4</td>\n",
       "      <td>Erin Brockovich (2000)</td>\n",
       "      <td>Drama</td>\n",
       "      <td>2000</td>\n",
       "      <td>F</td>\n",
       "      <td>1</td>\n",
       "      <td>10</td>\n",
       "    </tr>\n",
       "    <tr>\n",
       "      <th>4</th>\n",
       "      <td>1</td>\n",
       "      <td>2355</td>\n",
       "      <td>5</td>\n",
       "      <td>Bug's Life, A (1998)</td>\n",
       "      <td>Animation|Children's|Comedy</td>\n",
       "      <td>1998</td>\n",
       "      <td>F</td>\n",
       "      <td>1</td>\n",
       "      <td>10</td>\n",
       "    </tr>\n",
       "  </tbody>\n",
       "</table>\n",
       "</div>"
      ],
      "text/plain": [
       "   userId  movieId  rating                             Movie_names  \\\n",
       "0       1     1193       5  One Flew Over the Cuckoo's Nest (1975)   \n",
       "1       1      661       3        James and the Giant Peach (1996)   \n",
       "2       1      914       3                     My Fair Lady (1964)   \n",
       "3       1     3408       4                  Erin Brockovich (2000)   \n",
       "4       1     2355       5                    Bug's Life, A (1998)   \n",
       "\n",
       "                         Genres release_year gender  age  occupation  \n",
       "0                         Drama         1975      F    1          10  \n",
       "1  Animation|Children's|Musical         1996      F    1          10  \n",
       "2               Musical|Romance         1964      F    1          10  \n",
       "3                         Drama         2000      F    1          10  \n",
       "4   Animation|Children's|Comedy         1998      F    1          10  "
      ]
     },
     "execution_count": 20,
     "metadata": {},
     "output_type": "execute_result"
    }
   ],
   "source": [
    "movielens_df.head(5)"
   ]
  },
  {
   "cell_type": "code",
   "execution_count": 16,
   "id": "c496c186",
   "metadata": {},
   "outputs": [
    {
     "data": {
      "text/plain": [
       "(1000209, 9)"
      ]
     },
     "execution_count": 16,
     "metadata": {},
     "output_type": "execute_result"
    }
   ],
   "source": [
    "movielens_df.shape"
   ]
  },
  {
   "cell_type": "code",
   "execution_count": 24,
   "id": "917114e7",
   "metadata": {},
   "outputs": [],
   "source": [
    "from sklearn.preprocessing import LabelEncoder\n",
    "\n",
    "user_enc = LabelEncoder()\n",
    "movielens_df['userId'] = user_enc.fit_transform(movielens_df['userId'])\n",
    "\n",
    "movie_enc = LabelEncoder()\n",
    "movielens_df['movieId'] = movie_enc.fit_transform(movielens_df['movieId'])"
   ]
  },
  {
   "cell_type": "code",
   "execution_count": 32,
   "id": "6c5e7a26",
   "metadata": {},
   "outputs": [],
   "source": [
    "import tensorflow as tf\n",
    "from tensorflow.keras import Model\n",
    "from tensorflow.keras.layers import Input, Embedding, Dot, Flatten,\n",
    "from tensorflow.keras.optimizers import Adam\n",
    "from tensorflow.keras.callbacks import ModelCheckpoint\n",
    "\n",
    "from IPython.display import SVG"
   ]
  },
  {
   "cell_type": "code",
   "execution_count": 33,
   "id": "fc61d4b7",
   "metadata": {},
   "outputs": [],
   "source": [
    "def CBRecommender(n_users, n_movies, n_dim):\n",
    "    user = Input(shape=(1,))\n",
    "    U = Embedding(n_users, n_dim)(user)\n",
    "    U = Flatten()(U)\n",
    "    movie = Input(shape=(1,))\n",
    "    M = Embedding(n_movies, n_dim)(movie)\n",
    "    M = Flatten()(M)\n",
    "    x = Dot(axes=1)([U, M])\n",
    "    model = Model(inputs=[user, movie], outputs=x)\n",
    "    model.compile(optimizer=Adam(0.0001), loss='MAE')\n",
    "    return model"
   ]
  },
  {
   "cell_type": "code",
   "execution_count": 58,
   "id": "e1f30e35",
   "metadata": {},
   "outputs": [],
   "source": [
    "model = CBRecommender(userid_nunique, movieid_nunique, 100)"
   ]
  },
  {
   "cell_type": "code",
   "execution_count": 59,
   "id": "a6d2085d",
   "metadata": {},
   "outputs": [
    {
     "name": "stdout",
     "output_type": "stream",
     "text": [
      "Model: \"model_2\"\n",
      "__________________________________________________________________________________________________\n",
      " Layer (type)                   Output Shape         Param #     Connected to                     \n",
      "==================================================================================================\n",
      " input_5 (InputLayer)           [(None, 1)]          0           []                               \n",
      "                                                                                                  \n",
      " input_6 (InputLayer)           [(None, 1)]          0           []                               \n",
      "                                                                                                  \n",
      " embedding_4 (Embedding)        (None, 1, 100)       604000      ['input_5[0][0]']                \n",
      "                                                                                                  \n",
      " embedding_5 (Embedding)        (None, 1, 100)       370600      ['input_6[0][0]']                \n",
      "                                                                                                  \n",
      " flatten_4 (Flatten)            (None, 100)          0           ['embedding_4[0][0]']            \n",
      "                                                                                                  \n",
      " flatten_5 (Flatten)            (None, 100)          0           ['embedding_5[0][0]']            \n",
      "                                                                                                  \n",
      " dot_2 (Dot)                    (None, 1)            0           ['flatten_4[0][0]',              \n",
      "                                                                  'flatten_5[0][0]']              \n",
      "                                                                                                  \n",
      "==================================================================================================\n",
      "Total params: 974,600\n",
      "Trainable params: 974,600\n",
      "Non-trainable params: 0\n",
      "__________________________________________________________________________________________________\n"
     ]
    }
   ],
   "source": [
    "model.summary()"
   ]
  },
  {
   "cell_type": "code",
   "execution_count": 60,
   "id": "53ba360d",
   "metadata": {},
   "outputs": [
    {
     "data": {
      "text/plain": [
       "((800167, 8), (200042, 8), (800167,), (200042,))"
      ]
     },
     "execution_count": 60,
     "metadata": {},
     "output_type": "execute_result"
    }
   ],
   "source": [
    "from sklearn.model_selection import train_test_split\n",
    "X = movielens_df.drop(['rating'], axis=1)\n",
    "T = movielens_df['rating']\n",
    "\n",
    "X_train, X_test, t_train, t_test = train_test_split(X, T, test_size=0.2, stratify=T, random_state=0)\n",
    "\n",
    "X_train.shape, X_test.shape, t_train.shape, t_test.shape"
   ]
  },
  {
   "cell_type": "code",
   "execution_count": 61,
   "id": "fe93d2cb",
   "metadata": {},
   "outputs": [
    {
     "name": "stdout",
     "output_type": "stream",
     "text": [
      "Epoch 1/10\n",
      "12503/12503 [==============================] - 65s 5ms/step - loss: 3.4363 - val_loss: 2.7352\n",
      "Epoch 2/10\n",
      "12503/12503 [==============================] - 65s 5ms/step - loss: 1.5686 - val_loss: 1.0174\n",
      "Epoch 3/10\n",
      "12503/12503 [==============================] - 65s 5ms/step - loss: 0.8716 - val_loss: 0.7985\n",
      "Epoch 4/10\n",
      "12503/12503 [==============================] - 62s 5ms/step - loss: 0.7599 - val_loss: 0.7463\n",
      "Epoch 5/10\n",
      "12503/12503 [==============================] - 63s 5ms/step - loss: 0.7293 - val_loss: 0.7295\n",
      "Epoch 6/10\n",
      "12503/12503 [==============================] - 63s 5ms/step - loss: 0.7179 - val_loss: 0.7225\n",
      "Epoch 7/10\n",
      "12503/12503 [==============================] - 60s 5ms/step - loss: 0.7117 - val_loss: 0.7188\n",
      "Epoch 8/10\n",
      "12503/12503 [==============================] - 60s 5ms/step - loss: 0.7072 - val_loss: 0.7155\n",
      "Epoch 9/10\n",
      "12503/12503 [==============================] - 60s 5ms/step - loss: 0.7027 - val_loss: 0.7128\n",
      "Epoch 10/10\n",
      "12503/12503 [==============================] - 59s 5ms/step - loss: 0.6976 - val_loss: 0.7094\n"
     ]
    }
   ],
   "source": [
    "modelF = model.fit(x=[X_train['userId'], X_train['movieId']], \n",
    "                  y=t_train, batch_size=64, epochs=10, verbose=1, \n",
    "                  validation_data=([X_test['userId'], X_test['movieId']], t_test))"
   ]
  },
  {
   "cell_type": "code",
   "execution_count": 62,
   "id": "cdaeb73b",
   "metadata": {},
   "outputs": [
    {
     "data": {
      "image/png": "[encoded data removed]",
      "text/plain": [
       "<Figure size 432x288 with 1 Axes>"
      ]
     },
     "metadata": {
      "needs_background": "light"
     },
     "output_type": "display_data"
    }
   ],
   "source": [
    "training_loss = modelF.history['loss']\n",
    "test_loss = modelF.history['val_loss']\n",
    "epoch_count = range(1, len(training_loss) + 1)\n",
    "plt.plot(epoch_count, training_loss, 'r--')\n",
    "plt.plot(epoch_count, test_loss, 'b-')\n",
    "plt.legend(['Training Loss', 'Test Loss'])\n",
    "plt.xlabel('Epoch')\n",
    "plt.ylabel('Loss')\n",
    "plt.show()"
   ]
  },
  {
   "cell_type": "code",
   "execution_count": 85,
   "id": "f27a186f",
   "metadata": {},
   "outputs": [],
   "source": [
    "def make_pred(user_id, movie_id, model):\n",
    "    return model.predict([np.array([user_id]), np.array([movie_id])])[0][0]\n",
    "def rec(user_id, movielens_df):\n",
    "    user_ratings = movielens_df[movielens_df['userId'] == user_id][['userId', 'movieId', 'rating']]\n",
    "    recommendation = movielens_df[~movielens_df['movieId'].isin(user_ratings['movieId'])][['movieId']].drop_duplicates()\n",
    "    recommendation['rating_predict'] = recommendation.apply(lambda x: make_pred(user_id, x['movieId'], model), axis=1)\n",
    "    \n",
    "    final_rec = recommendation.sort_values(by='rating_predict',\n",
    "                    ascending=False).merge(movies[['movieId', 'Movie_names', 'release_year']],\n",
    "                    on='movieId',how='inner').head(10)\n",
    "    \n",
    "    return final_rec.sort_values('release_year', ascending=False).drop(['movieId', 'release_year'], axis=1) "
   ]
  },
  {
   "cell_type": "code",
   "execution_count": 86,
   "id": "c9b7ce49",
   "metadata": {},
   "outputs": [
    {
     "data": {
      "text/html": [
       "<div>\n",
       "<style scoped>\n",
       "    .dataframe tbody tr th:only-of-type {\n",
       "        vertical-align: middle;\n",
       "    }\n",
       "\n",
       "    .dataframe tbody tr th {\n",
       "        vertical-align: top;\n",
       "    }\n",
       "\n",
       "    .dataframe thead th {\n",
       "        text-align: right;\n",
       "    }\n",
       "</style>\n",
       "<table border=\"1\" class=\"dataframe\">\n",
       "  <thead>\n",
       "    <tr style=\"text-align: right;\">\n",
       "      <th></th>\n",
       "      <th>rating_predict</th>\n",
       "      <th>Movie_names</th>\n",
       "    </tr>\n",
       "  </thead>\n",
       "  <tbody>\n",
       "    <tr>\n",
       "      <th>3</th>\n",
       "      <td>4.971834</td>\n",
       "      <td>Love Stinks (1999)</td>\n",
       "    </tr>\n",
       "    <tr>\n",
       "      <th>2</th>\n",
       "      <td>4.974593</td>\n",
       "      <td>My Giant (1998)</td>\n",
       "    </tr>\n",
       "    <tr>\n",
       "      <th>9</th>\n",
       "      <td>4.853572</td>\n",
       "      <td>Blade (1998)</td>\n",
       "    </tr>\n",
       "    <tr>\n",
       "      <th>0</th>\n",
       "      <td>5.156951</td>\n",
       "      <td>Zone 39 (1997)</td>\n",
       "    </tr>\n",
       "    <tr>\n",
       "      <th>5</th>\n",
       "      <td>4.921086</td>\n",
       "      <td>Henry: Portrait of a Serial Killer, Part 2 (1996)</td>\n",
       "    </tr>\n",
       "    <tr>\n",
       "      <th>8</th>\n",
       "      <td>4.872858</td>\n",
       "      <td>Mission: Impossible (1996)</td>\n",
       "    </tr>\n",
       "    <tr>\n",
       "      <th>7</th>\n",
       "      <td>4.896324</td>\n",
       "      <td>Iron Eagle II (1988)</td>\n",
       "    </tr>\n",
       "    <tr>\n",
       "      <th>4</th>\n",
       "      <td>4.934565</td>\n",
       "      <td>Platoon (1986)</td>\n",
       "    </tr>\n",
       "    <tr>\n",
       "      <th>1</th>\n",
       "      <td>5.033611</td>\n",
       "      <td>Places in the Heart (1984)</td>\n",
       "    </tr>\n",
       "    <tr>\n",
       "      <th>6</th>\n",
       "      <td>4.900664</td>\n",
       "      <td>Shall We Dance? (1937)</td>\n",
       "    </tr>\n",
       "  </tbody>\n",
       "</table>\n",
       "</div>"
      ],
      "text/plain": [
       "   rating_predict                                        Movie_names\n",
       "3        4.971834                                 Love Stinks (1999)\n",
       "2        4.974593                                    My Giant (1998)\n",
       "9        4.853572                                       Blade (1998)\n",
       "0        5.156951                                     Zone 39 (1997)\n",
       "5        4.921086  Henry: Portrait of a Serial Killer, Part 2 (1996)\n",
       "8        4.872858                         Mission: Impossible (1996)\n",
       "7        4.896324                               Iron Eagle II (1988)\n",
       "4        4.934565                                     Platoon (1986)\n",
       "1        5.033611                         Places in the Heart (1984)\n",
       "6        4.900664                             Shall We Dance? (1937)"
      ]
     },
     "execution_count": 86,
     "metadata": {},
     "output_type": "execute_result"
    }
   ],
   "source": [
    "rec(5,movielens_df)"
   ]
  },
  {
   "cell_type": "code",
   "execution_count": null,
   "id": "bb938af0",
   "metadata": {},
   "outputs": [],
   "source": []
  }
 ],
 "metadata": {
  "kernelspec": {
   "display_name": "Python 3",
   "language": "python",
   "name": "python3"
  },
  "language_info": {
   "codemirror_mode": {
    "name": "ipython",
    "version": 3
   },
   "file_extension": ".py",
   "mimetype": "text/x-python",
   "name": "python",
   "nbconvert_exporter": "python",
   "pygments_lexer": "ipython3",
   "version": "3.8.8"
  }
 },
 "nbformat": 4,
 "nbformat_minor": 5
}
